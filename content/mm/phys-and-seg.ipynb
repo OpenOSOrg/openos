{
 "cells": [
  {
   "cell_type": "markdown",
   "id": "40a5367e-a274-4572-a1c8-463bc0cf02f6",
   "metadata": {},
   "source": [
    "(cont:mm:beforepaging)=\n",
    "\n",
    "This chapter describes how memory management evolved from simple physical memory management to\n",
    "virtual memory using segmentation and why we now have paged virtual memory on most systems.\n",
    "\n",
    "# Memory management before paged virtual memory\n",
    "\n"
   ]
  },
  {
   "cell_type": "markdown",
   "id": "55be0fe2-bbc9-497c-9321-59afd1c3112f",
   "metadata": {},
   "source": [
    "(cont:mm:overview:simple)=\n",
    "## Simple physical memory management.\n",
    "\n",
    "\n",
    "From a hardware perspective, the simplest memory management model is to have processes just use the physical address space; where instructions executed on the processor directly reference physical memory addresses.  For example, if the application wants to load a register, from location ``0x1234`` it would get the data stored at physical memory location ``0x1234``.   For example, the original Microsoft DOS operating system, supported exactly this model. \n",
    "\n",
    "As shown in {numref}`mem-pys-mem-fig`, the operating system needs to be loaded into one part of the memory, and each program that you would want to run needs to be loaded into different physical memory at different addresses. \n",
    "\n",
    "```{figure} ../images/mm/physmem.drawio.png\n",
    "---\n",
    "width: 50% \n",
    "name: mem-pys-mem-fig\n",
    "---\n",
    "Operating system is loaded at address 0, program 1 is loaded at address ```0x2000``` and program 2 is loaded at address ```0x8000```\n",
    "```\n",
    "\n",
    "There are two major problems with physical memory management.  First, there is no protection between the different programs.  A bug in program 1 may cause program 2 to be modified, or even modify the operating system. \n",
    "\n",
    "Second, programs need to be re-located when they are loaded.  If we are going to run multiple programs, we can't know a-priori the location where the program will be loaded.  However, when the program is compiled and linked into object code specific addresses, for example for branches needed to be specified in the program.  \n",
    "\n",
    "For this reason programs are usually linked as relocatable.  Relocatable programs have a table of all addresses within the program image that must be changed at load time before it can be run.   See {numref}`prog-pys-mem-fig`, where the jump instruction at address `0x0000` needs to be modified by adding the address of where the program is being loaded, i.e., ```JMP 0x1000``` is modified to ```JMP 0x3000```.\n",
    "\n",
    "```{figure} ../images/mm/prog_phys.drawio.png\n",
    "---\n",
    "width: 80% \n",
    "name: prog-pys-mem-fig\n",
    "---\n",
    "Changes to program 1 to load it at address ```0x2000``` \n",
    "```\n",
    "\n",
    "While we don't need relocation to solve this problem with paged virtual memory, as we will discuss later, relocation is still used today for shared libraries and for address space randomization. \n",
    "\n",
    "  \n",
    "\n"
   ]
  },
  {
   "cell_type": "markdown",
   "id": "5a27cae3-7afe-4c5c-a1dc-1f5e9f8aac99",
   "metadata": {
    "tags": []
   },
   "source": [
    "(cont:mm:virt-seg)=\n",
    "## Segmentation - Virtual Memory\n",
    "\n",
    "Physical memory managment has the 2 problems; there is no isolation and you need to relocate programs to wherever they are loaded.  What we really want is *virtual memory* where every process has an address space that appears to start at address```0x0000``` and ends at some large address based on underlying hardware design.  This way every process is isolated from every other process because it can only see its own virtual memory and every program can be loaded at wherever it was linked to run without relocation.  \n",
    "\n",
    "```{figure} ../images/mm/programs_seg.png\n",
    "---\n",
    "width: 100%\n",
    "name: Multiple virtual address spaces\n",
    "---\n",
    "Multiple virtual address spaces using segmentation\n",
    "```"
   ]
  },
  {
   "cell_type": "markdown",
   "id": "489e0d64-ed89-430f-a070-c538df95b83f",
   "metadata": {
    "tags": []
   },
   "source": [
    "### Segmentation - Base and Bounds translation\n",
    "We first looked at direct physical addressing, where no matter which\n",
    "process is executing, the same address (e.g. 0x1000) refers to the same\n",
    "memory location. In addition we reviewed a very simple form of address\n",
    "translation, shown here in {numref}`mm:base-bound`\n",
    "% [\\[fig:vm:fig1\\]](#fig:vm:fig1){reference-type=\"autoref\" reference=\"fig:vm:fig1\"}, \n",
    "where base and bounds registers are used to\n",
    "relocate a section of the *virtual address space*---the addresses seen\n",
    "by the program, corresponding to values in the CPU registers---to\n",
    "somewhere else in the physical address space. By changing these\n",
    "translations the operating system can create multiple virtual address\n",
    "spaces, one per process; however there is still only one physical\n",
    "address space, uniquely identifying each byte in each memory chip. In\n",
    "this chapter we introduce *paged address translation*, a more complex\n",
    "address translation mechanism used by most modern CPUs, and present the\n",
    "32-bit Intel implementation as an example.\n",
    "\n",
    "```{figure} ../images/mm/B&Lregs.png\n",
    "---\n",
    "width: 80% \n",
    "name: B&L\n",
    "---\n",
    "Base and Limit registers\n",
    "```\n"
   ]
  },
  {
   "cell_type": "markdown",
   "id": "dcf865b5-98b3-40c0-a440-d52771db0f54",
   "metadata": {
    "tags": []
   },
   "source": [
    "## Segmentation(AKA base and bounds translation).\n",
    "In the simplest form of segmentation the hardware provides 2 registers that are loaded each time a process acquire the CPU, a base register and a limit register.  For a given process the base register contains the physical address that the program was loaded at and the limit register contains the size of the program that was loaded into memory.  Every process has a virtual address space starting at zero and a size determined by the actual program size that the process is running.  The process specific base and limit registers which are loaded every time a process acquires the CPU establishes the bounds of the virtual address space for every process.  For each and every memory reference the hardware adds the virtual address to the base register to determine a physical address and ensures that the physical address is between the base register and base register plus the limit register.  If it is outside those bounds the program is terminated with an illegal virtual memory reference error.  Segmentation solves both the lack of protection and the mandatory relocation requirements of physical addressing.  Segmentation has little or no performance overhead because the hardware performs the virtual to physical translation or the addition of the virtual address and the base register to determine every physical address.\n",
    "\n",
    "```{figure} ../images/pb-figures/mm/virt-mem-base-bounds.png\n",
    "---\n",
    "width: 45%\n",
    "name: mm:base-bound\n",
    "---\n",
    "Base-bound registers for translation \n",
    "```"
   ]
  },
  {
   "cell_type": "markdown",
   "id": "953db751-8f29-483e-978d-f034bb89fe5b",
   "metadata": {
    "tags": []
   },
   "source": [
    "### Single segments per address space\n",
    "So far we discussed a segmentation implementation that provides one base register and one limit register in hardware and one of each of those process specific values that gets loaded into those registers when context switching to a given process.  Since there is only one of each register, the entire process virtual address space must be physically contiguous and all text, data and stack must be within that single memory region.  While this is a huge improvement over a physical memory model it limits the size of the virtual address space to being static and not expandable.  There is no way to dynamically increase the size of the text, data or stack regions of a process at run-time, everything must be allocated in advance.  This requires allocating physical memory that might never be used.\n",
    "\n",
    "```{figure} ../images/mm/segment_ex1.png\n",
    "---\n",
    "width: 80% \n",
    "name: segment_ex1\n",
    "---\n",
    "Single Segment per process\n",
    "```\n",
    "\n",
    "Since every process has different base and limit register values segmentation can easily support multiple processes.\n",
    "\n",
    "```{figure} ../images/mm/segment_ex2.png\n",
    "---\n",
    "width: 80% \n",
    "name: segment_ex2\n",
    "---\n",
    "Multiple processes using Segmentation\n",
    "```\n",
    "\n",
    "### Multiple segments per address space.\n",
    "As mentioned earlier a single base and limit segment register implies that an entire process virtual address space is a one physically contiguous region of physical memory mapped into one virtually contiguous virtual region of virtual memory.  This means that the text, data and stack regions must be packed tightly together in both physical and virtual memory unless we are willing to waste both physical and virtual memory.  Also, with only one segment register it's not possible to offer different types of protections for the various regions of the virtual address space.  In other words all of virtual memory must be readable, writable and executable since data must be both readable and writable and text must be executable.  It would be nice to prevent data regions from being executable and text regions from being readable and writable for security and debug optimizations.\n",
    "\n",
    "This can be achieved by the hardware implementing multiple segment and limit registers with only specified permissions for text, data and stack regions and having the operating system use those registers when context switching to a process.  When mapping the text into a virtual region the operating system can specify an execute only region that does not have to be adjacent to other non-executable regions.  When mapping data into virtual memory the operating system can specify read/write only thereby preventing execution of data regions.  Finally the stack can also be non-executable but also the operating system can move the virtual memory stack region away from any other region making it easier to debug common programming problems like stack overflows.  Finally multiple segment registers eliminates the necessity for the text, data and stack regions to be physically contiguous.  This allows a program to be split up into multiple smaller regions both physically and virtually making it much easier to hold more programs in physical memory at the same time.\n",
    "\n",
    "```{figure} ../images/mm/segmentation-multi.png\n",
    "---\n",
    "width: 80% \n",
    "name: segment multi\n",
    "---\n",
    "Multiple Segments per address space\n",
    "```\n",
    "\n",
    "### Private versus Global segments.\n",
    "Every process virtual address space consists of 2 types of regions, Private and Global.  The private regions for a process are the program specific text, data and stack regions that the process is running.  The global regions include the operating system that is and must be mapped into every process address space.  As we discussed earlier in this course the operating system consists of all the software that executes on behalf of the currently running program as well as basic system overhead that runs on behalf of the system.  This includes all the system calls the operating system supports.  Since every process must map the operating system kernel it is shared between every running process rather than each process containing a separate copy.  The global segment registers are used to map the shared kernel text, data and kernel stack area in every process and at the same virtual addresses.  When a context switch occurs only the private segments registers are changed for the newly running process, there is no need to change the global segment registers since they are identical for every process.\n",
    "\n",
    "```{figure} ../images/mm/segmentation-global.png\n",
    "---\n",
    "width: 80% \n",
    "name: segment global\n",
    "---\n",
    "Global Segments\n",
    "```\n",
    "\n",
    "  #### Fragmentation and Compaction.\n",
    "When a new process is created and a program runs the kernel reads the program text, data and stack memory into the available or free physical memory locations.  From there, the private segment registers are used to map that physical memory into the private virtual address space of the process, allowing the process to run the program.  When a process exits, the physical memory regions that the process consumed is made available or freed onto a physical memory free list.  Over time as processes are created, run and exit the physical memory becomes more and more fragmented.  After a while as processes come and go its likely that the sum of available physical memory is large enough to satisfy a request but there is no physically contiguous free memory region large enough to hold the request."
   ]
  },
  {
   "cell_type": "markdown",
   "id": "7bc56d60-3ae7-4da4-8e90-eece6bec0a2b",
   "metadata": {
    "tags": []
   },
   "source": [
    "For example if memory is allocated and de-allocated in chunks of different sizes and at different times, then it can  become *fragmented* so that even if large amounts of memory are free, it will be divided into smaller fragments, separated by longer-lived small allocations, as seen in (#fig:vm:fig2).\n",
    "\n",
    "Start: 32 locations, all free\n",
    "%![image](../images/pb-figures/mm/virt-mem-frag-1.png){width=\"80%\"}\\\n",
    "\n",
    "```{figure} ../images/pb-figures/mm/virt-mem-frag-1.png\n",
    "---\n",
    "width: 45%\n",
    "name: mm:virt-mem-frag-1\n",
    "---\n",
    "Everything is free\n",
    "```\n",
    "\n",
    "Step 1, 2: Load and run processes A and B\n",
    "%![image](../images/pb-figures/mm/virt-mem-frag-2.png){width=\"80%\"}\\\n",
    "\n",
    "```{figure} ../images/pb-figures/mm/virt-mem-frag-2.png\n",
    "---\n",
    "width: 45%\n",
    "name: mm:virt-mem-frag-2\n",
    "---\n",
    "Process A allocates 10 and process B allocates 1\n",
    "```\n",
    "\n",
    "Step 3, 4, 5: Run and load processes C, D and E.\n",
    "%![image](../images/pb-figures/mm/virt-mem-frag-3.png){width=\"80%\"}\\\n",
    "```{figure} ../images/pb-figures/mm/virt-mem-frag-3.png\n",
    "---\n",
    "width: 45%\n",
    "name: mm:virt-mem-frag-3\n",
    "---\n",
    "Process C allocates 10, process D allocates 1 and process E allocates 10\n",
    "```\n",
    "Steps 6, 7, 8: processes A, C and D terminate\n",
    "%![image](../images/pb-figures/mm/virt-mem-frag-4.png){width=\"80%\"}\n",
    "```{figure} ../images/pb-figures/mm/virt-mem-frag-4.png\n",
    "---\n",
    "width: 45%\n",
    "name: mm:virt-mem-frag-4\n",
    "---\n",
    "process A frees 10, process C frees 1 and process E frees 10\n",
    "```\n",
    "In the last line, you can see that only 2 units of memory (out of 32)\n",
    "remain allocated, but the largest amount that can be allocated at one\n",
    "time is 10 units. If all allocation requests are small, this might not\n",
    "be a problem; however, in an operating system it is common to have one\n",
    "or two very large processes (e.g., a web browser and word processing\n",
    "software), and many small, long-running processes (e.g., the on-screen\n",
    "battery display or wifi signal strength indicator). In this case, large\n",
    "memory allocations may fail, even when there is enough total memory\n",
    "free, because long-lived small allocations fragment the available\n",
    "contiguous memory into smaller pieces."
   ]
  },
  {
   "cell_type": "code",
   "execution_count": null,
   "id": "d19314b8-d512-4880-9f99-60d91e59f7d4",
   "metadata": {
    "tags": []
   },
   "outputs": [],
   "source": []
  },
  {
   "cell_type": "markdown",
   "id": "429d1ce7-3356-47d6-952f-49afa8e65f76",
   "metadata": {
    "tags": []
   },
   "source": [
    "When this happens the operating system must move or coalesce the used memory regions together thereby creating a large contiguous available or free region.  Even though this is very time consuming and not desirable at least now one or more requests can be satisfied.  This is all made possible because the base registers of the processes that map these moved regions can be updated to the new locations of the physical memory and because the operating system has the ability to relocate programs in physical memory as we discussed in the physical memory management model.  Again, this is time consuming and undesirable."
   ]
  },
  {
   "cell_type": "markdown",
   "id": "30e9a0bb-9025-42fa-aad0-c811cc3fc87a",
   "metadata": {
    "tags": []
   },
   "source": [
    "#### Swapping.\n",
    "Since the entire process must be resident in physical memory to run with segmentation, its unlikely that all processes will be able to run at the same time. In order to support more processes than can fit into memory the memory management system must swap entire processes out to disk when memory is needed and into memory from disk when they need to run again.\n",
    "\n",
    "The memory management system has determined that process 1 had run long enough so it swaps it out and frees up memory it occupies.\n",
    "```{figure} ../images/mm/swapout.png\n",
    "---\n",
    "width: 80% \n",
    "name: swapout\n",
    "---\n",
    "Swapping out an entire process\n",
    "```\n",
    "\n",
    "The memory management system has determined that its time for process N to run again so it swaps it into the memory freed by the swapout.\n",
    "```{figure} ../images/mm/swapin.png\n",
    "---\n",
    "width: 80% \n",
    "name: swapin\n",
    "---\n",
    "Swapping in an entire process\n",
    "```\n",
    "\n",
    "#### Limitations of segmentation.\n",
    "Segmentation, especially with multiple segment registers along with private and global segment registers provides a huge benefit over a physical memory management model.  We can now support many processes running at the same time with protection between processes and even protection within a process.  However Segmentation still has major weaknesses, 1.) the memory for a segment must be physically contiguous, 2.) the virtual address size can never exceed the physical address size with segmentation.  Needing physically contiguous memory is a huge problem, it requires compaction and swapping in order to run a significant number of processes simultaneously.  Limiting programs to less that the amount of physical memory on a given system is also very limiting.  It would be very convenient to be able to allocate a very large sparse region of virtual memory and only actually use a small subset of it.  Imagine allocating an array of fixed size records for every possible student at Boston University and indexing that array by the student's social security number.  There are 10^9 or 1 Billion social security numbers but only a few thousand students at BU.  Such a large sparse array could not be implemented with segmentation unless the system actually had all the necessary physical memory for every possible social security number.  Imagine being able to map millions of files in a virtual address space on a system that didn't have all that much physical memory."
   ]
  },
  {
   "cell_type": "code",
   "execution_count": null,
   "id": "cee12c54-86d7-403e-8ac0-7913cbb5aaec",
   "metadata": {},
   "outputs": [],
   "source": []
  }
 ],
 "metadata": {
  "kernelspec": {
   "display_name": "Python 3 (ipykernel)",
   "language": "python",
   "name": "python3"
  },
  "language_info": {
   "codemirror_mode": {
    "name": "ipython",
    "version": 3
   },
   "file_extension": ".py",
   "mimetype": "text/x-python",
   "name": "python",
   "nbconvert_exporter": "python",
   "pygments_lexer": "ipython3",
   "version": "3.10.5"
  }
 },
 "nbformat": 4,
 "nbformat_minor": 5
}
