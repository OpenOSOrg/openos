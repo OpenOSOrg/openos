{
 "cells": [
  {
   "cell_type": "markdown",
   "id": "2672aba5-8a26-4835-9b79-c086a750d8cc",
   "metadata": {},
   "source": [
    "# Scheduling with Priorities\n",
    "\n",
    "We first discuss scheduling with fixed priorites for real time, and then how priorities can be used dynamically to support an interactive system. "
   ]
  },
  {
   "cell_type": "markdown",
   "id": "26233610-7805-4240-a088-df056236c716",
   "metadata": {},
   "source": [
    "## Fixed Priority\n",
    "\n",
    "The core idea behind priority scheduling is that some processes may be more important than others and should be given access to the CPU first.   For example, one reasonable assumption might be that tasks of students should only run if there are no tasks from professors.  To implement this policy, the OS maintains two or more priority queues which hold tasks assigned to the corresponding priority. Runnable processes in a lower priority queue are only run if there are none in a higher priority queues.  Figure {numref}`priority-sched` shows a simple example of a system with 5 priority queues. In this snapshot, the next process to be given CPU time will be the first process in the priority 5 queue. Assuming no additions, the processes in queue 3 will not run until all of the ones in 5 have completed.\n",
    "\n",
    "```{figure} ../images/scheduling/Priority.png\n",
    "---\n",
    "name: priority-sched\n",
    "---\n",
    "A simple example of a system with 5 priority queues and runnable processes in several of the queues.\n",
    "```\n",
    "\n",
    "Let us consider a situation with three tasks shown in the table below:\n",
    "\n",
    "| Task | Start | Runtime      | Priority |\n",
    "| :--: | :---: | :----------: | :----------: |\n",
    "| A    | 0     | 6            |  1            |\n",
    "| B    | 1     | 2            |  3            |\n",
    "| C    | 2     | 2            |  3            |\n",
    "| D    | 3     | 1            |  5            |\n",
    "\n",
    "\n",
    "In that case, a priority scheduler will run tasks as shown in {numref}`VP:sched:pr` below:\n",
    "\n",
    "```{figure} ../images/scheduling/Priority-tl.png\n",
    "---\n",
    "name: VP:sched:pr\n",
    "---\n",
    "Priority scheduling, where every task executes for a quantum of time. \n",
    "```\n",
    "\n",
    "A runs by itself until B becomes ready to run.  We then preempt A after it has accumulated one second of run time, and context switch to B since it is higher priority.  When C starts running, it is the same priority as B, so they share the CPU (i.e., we switch back and forth between them every quantum). At time 3, D enters with the highest priority, and we stop running B and C to just run it.  At that point, B has accumulated 1.5 sec of runtime, and C has accumulated .5 seconds.  Once D is done, we again share the CPU using round robin between B and C, until B has accumulated its full 2 seconds of runtime, after which we can use the CPU just for running C.  Finally, at second 6, all the other tasks are done and A, the lowest priority task, can be run until it completes.  The average turnaround time here is $((4-3) + (5-1) + (6-2) + 11)/4 = 5$ seconds. \n",
    "\n",
    "Note, one challenge with a fixed priority scheme is that low priority work can starve if there is always higher priority work entering the system. "
   ]
  },
  {
   "cell_type": "markdown",
   "id": "4bb14c44-e690-461b-a4b9-efe21645eb3e",
   "metadata": {},
   "source": [
    "### Tradeoffs\n",
    "- **Requirements:**  \n",
    "   - User must specify priority of high priority work\n",
    "- **The Good:** \n",
    "   - Supports real time for high priority\n",
    "- **The Bad:**\n",
    "   - Bad for tasks that alternate between I/O and CPU\n",
    "   - Doesn't do anything to maintain high utilization of non-CPU resources\n",
    "   - Poor turnaround time\n",
    "   - Wouldn't use for batch\n",
    "   - Can result in Starvation"
   ]
  },
  {
   "cell_type": "markdown",
   "id": "11bb2191-234f-42ae-8108-74f364e1fd22",
   "metadata": {},
   "source": [
    "(cont:scheduling:scheduling:policies:MLF)=\n",
    "## Variable Priority or Multilevel feedback\n",
    "\n",
    "While round robin does a better job than run to completion it doesn't do a good job for I/O bound tasks.  If there are many CPU intensive tasks.  Consider the case of 100 CPU intensive tasks that each consume their full quantum of, say, 10msec. If the I/O intensive task only runs for a few usec, and then does some quick I/O, it might have to wait for $10msec * 100 = 1 sec$ before it gets to run again.  What we really want to do is to prioritize I/O intensive tasks.   Unfortunately, we don't know which tasks are CPU or I/O intensive a-priori, and further a task may go back and forth between being CPU and I/O intensive. \n",
    "\n",
    "A very popular scheduling algorithm for this is called **Multilevel** feedback.  It assumes the same kind of data structure shown in {numref}`VP:sched:pr`.  One simple varient of the algorithm is:\n",
    "\n",
    "- When a task first starts running, we assume it is I/O intensive, and add it to the highest priority queue.\n",
    "- if a task consumes an entire quantum, we assume it is more CPU intensive, and decrease its priority by one before adding it to the runqueue.\n",
    "- If a task performs I/O before its quantum expires, when it becomes runnable we increase its priority (up to the highest level) before adding it to the runqueue.\n",
    "- To avoid starvation, we periodically move all the tasks to the highest priority queue. \n",
    "\n",
    "Note, a system can support both fixed priorities, e.g., for real time tasks, and a range of priorities for dealing with general purpose tasks. "
   ]
  },
  {
   "cell_type": "markdown",
   "id": "43f96763-55b7-4c1e-96c6-039192c0f474",
   "metadata": {},
   "source": [
    "### Tradeoffs\n",
    "- **Requirements:**  \n",
    "   - requires no knowledge of task run time\n",
    "- **The Good:** \n",
    "   - Good for interactive tasks and maintaining high utilization of non-cpu resources\n",
    "- **The Bad:**\n",
    "   - Bad for real time and batch \n",
    "   - While it can deal with starvation by periodically moving tasks to high priority queue, this is a bit of a hack rather than an intrinsic part of the algorithm. "
   ]
  },
  {
   "cell_type": "code",
   "execution_count": null,
   "id": "d0f5c851-45de-4be1-985a-34d4cdd711b2",
   "metadata": {},
   "outputs": [],
   "source": []
  }
 ],
 "metadata": {
  "kernelspec": {
   "display_name": "Python 3 (ipykernel)",
   "language": "python",
   "name": "python3"
  },
  "language_info": {
   "codemirror_mode": {
    "name": "ipython",
    "version": 3
   },
   "file_extension": ".py",
   "mimetype": "text/x-python",
   "name": "python",
   "nbconvert_exporter": "python",
   "pygments_lexer": "ipython3",
   "version": "3.10.5"
  }
 },
 "nbformat": 4,
 "nbformat_minor": 5
}
